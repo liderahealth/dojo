{
  "nbformat": 4,
  "nbformat_minor": 0,
  "metadata": {
    "colab": {
      "name": "acid.ipynb",
      "provenance": []
    },
    "kernelspec": {
      "name": "python3",
      "display_name": "Python 3"
    }
  },
  "cells": [
    {
      "cell_type": "code",
      "metadata": {
        "id": "ku9zYT6HmZN1",
        "colab_type": "code",
        "colab": {}
      },
      "source": [
        "import pandas as pd"
      ],
      "execution_count": 0,
      "outputs": []
    },
    {
      "cell_type": "code",
      "metadata": {
        "id": "ZdDw7QftnCwN",
        "colab_type": "code",
        "colab": {}
      },
      "source": [
        "acid = pd.read_csv(\"http://bit.ly/acidtrab\")"
      ],
      "execution_count": 0,
      "outputs": []
    },
    {
      "cell_type": "code",
      "metadata": {
        "id": "7XSm_gUhnE6D",
        "colab_type": "code",
        "colab": {
          "base_uri": "https://localhost:8080/",
          "height": 198
        },
        "outputId": "1de1997c-30e8-43e7-b23c-c35973387fc8"
      },
      "source": [
        "acid.head()"
      ],
      "execution_count": 3,
      "outputs": [
        {
          "output_type": "execute_result",
          "data": {
            "text/html": [
              "<div>\n",
              "<style scoped>\n",
              "    .dataframe tbody tr th:only-of-type {\n",
              "        vertical-align: middle;\n",
              "    }\n",
              "\n",
              "    .dataframe tbody tr th {\n",
              "        vertical-align: top;\n",
              "    }\n",
              "\n",
              "    .dataframe thead th {\n",
              "        text-align: right;\n",
              "    }\n",
              "</style>\n",
              "<table border=\"1\" class=\"dataframe\">\n",
              "  <thead>\n",
              "    <tr style=\"text-align: right;\">\n",
              "      <th></th>\n",
              "      <th>Ano</th>\n",
              "      <th>Motivo/Situação</th>\n",
              "      <th>CID</th>\n",
              "      <th>Qte Acidentes</th>\n",
              "      <th>Situação</th>\n",
              "    </tr>\n",
              "  </thead>\n",
              "  <tbody>\n",
              "    <tr>\n",
              "      <th>0</th>\n",
              "      <td>2000</td>\n",
              "      <td>Típico-Com Cat</td>\n",
              "      <td>998:Outros</td>\n",
              "      <td>47649</td>\n",
              "      <td>Com Cat Registrada</td>\n",
              "    </tr>\n",
              "    <tr>\n",
              "      <th>1</th>\n",
              "      <td>2000</td>\n",
              "      <td>Típico-Com Cat</td>\n",
              "      <td>999:Ignorado</td>\n",
              "      <td>38246</td>\n",
              "      <td>Com Cat Registrada</td>\n",
              "    </tr>\n",
              "    <tr>\n",
              "      <th>2</th>\n",
              "      <td>2000</td>\n",
              "      <td>Típico-Com Cat</td>\n",
              "      <td>S61:Ferim do Punho e da Mao</td>\n",
              "      <td>35606</td>\n",
              "      <td>Com Cat Registrada</td>\n",
              "    </tr>\n",
              "    <tr>\n",
              "      <th>3</th>\n",
              "      <td>2000</td>\n",
              "      <td>Típico-Com Cat</td>\n",
              "      <td>S62:Frat ao Nivel do Punho e da Mao</td>\n",
              "      <td>21042</td>\n",
              "      <td>Com Cat Registrada</td>\n",
              "    </tr>\n",
              "    <tr>\n",
              "      <th>4</th>\n",
              "      <td>2000</td>\n",
              "      <td>Típico-Com Cat</td>\n",
              "      <td>S60:Traum Superf do Punho e da Mao</td>\n",
              "      <td>9811</td>\n",
              "      <td>Com Cat Registrada</td>\n",
              "    </tr>\n",
              "  </tbody>\n",
              "</table>\n",
              "</div>"
            ],
            "text/plain": [
              "    Ano Motivo/Situação  ... Qte Acidentes            Situação\n",
              "0  2000  Típico-Com Cat  ...         47649  Com Cat Registrada\n",
              "1  2000  Típico-Com Cat  ...         38246  Com Cat Registrada\n",
              "2  2000  Típico-Com Cat  ...         35606  Com Cat Registrada\n",
              "3  2000  Típico-Com Cat  ...         21042  Com Cat Registrada\n",
              "4  2000  Típico-Com Cat  ...          9811  Com Cat Registrada\n",
              "\n",
              "[5 rows x 5 columns]"
            ]
          },
          "metadata": {
            "tags": []
          },
          "execution_count": 3
        }
      ]
    },
    {
      "cell_type": "code",
      "metadata": {
        "id": "IWGm-bMknGUb",
        "colab_type": "code",
        "colab": {
          "base_uri": "https://localhost:8080/",
          "height": 35
        },
        "outputId": "833740e1-1d0d-44ad-b955-f7d913cbd293"
      },
      "source": [
        "acid.columns"
      ],
      "execution_count": 4,
      "outputs": [
        {
          "output_type": "execute_result",
          "data": {
            "text/plain": [
              "Index(['Ano', 'Motivo/Situação', 'CID', 'Qte Acidentes', 'Situação'], dtype='object')"
            ]
          },
          "metadata": {
            "tags": []
          },
          "execution_count": 4
        }
      ]
    },
    {
      "cell_type": "code",
      "metadata": {
        "id": "gjxush_DnHYT",
        "colab_type": "code",
        "colab": {
          "base_uri": "https://localhost:8080/",
          "height": 199
        },
        "outputId": "a2983798-377e-4954-d4c2-d1042e8cb04f"
      },
      "source": [
        "acid.info()"
      ],
      "execution_count": 5,
      "outputs": [
        {
          "output_type": "stream",
          "text": [
            "<class 'pandas.core.frame.DataFrame'>\n",
            "RangeIndex: 47256 entries, 0 to 47255\n",
            "Data columns (total 5 columns):\n",
            "Ano                47256 non-null object\n",
            "Motivo/Situação    47256 non-null object\n",
            "CID                47256 non-null object\n",
            "Qte Acidentes      47256 non-null object\n",
            "Situação           47255 non-null object\n",
            "dtypes: object(5)\n",
            "memory usage: 1.8+ MB\n"
          ],
          "name": "stdout"
        }
      ]
    },
    {
      "cell_type": "code",
      "metadata": {
        "id": "Ef0dnjHDnIka",
        "colab_type": "code",
        "colab": {
          "base_uri": "https://localhost:8080/",
          "height": 1000
        },
        "outputId": "47f7337b-33ba-4187-d829-f182f276f4f5"
      },
      "source": [
        "acid['CID'].value_counts()"
      ],
      "execution_count": 6,
      "outputs": [
        {
          "output_type": "execute_result",
          "data": {
            "text/plain": [
              "999:Ignorado                                     127\n",
              "S82:Frat da Perna Incl Tornozelo                  89\n",
              "S62:Frat ao Nivel do Punho e da Mao               89\n",
              "M65:Sinovite e Tenossinovite                      89\n",
              "M75:Lesoes do Ombro                               89\n",
              "S52:Frat do Antebraco                             87\n",
              "S42:Frat do Ombro e do Braco                      87\n",
              "S61:Ferim do Punho e da Mao                       87\n",
              "M54:Dorsalgia                                     86\n",
              "S43:Luxacao Entorse Distens Artic Lig Cint Es     84\n",
              "S22:Frat de Costelas Esterno e Coluna Toracic     84\n",
              "S81:Ferim da Perna                                84\n",
              "S02:Frat do Cranio e dos Ossos da Face            83\n",
              "S83:Luxacao Entorse Distensao Art Lig Joelho      83\n",
              "S92:Frat do Pe                                    83\n",
              "S68:Amput Traum ao Nivel do Punho e da Mao        82\n",
              "S93:Luxac Entors Distens Artic Lig Niv Tornoz     82\n",
              "S72:Frat do Femur                                 82\n",
              "S06:Traum Intracraniano                           81\n",
              "S91:Ferim do Tornozelo e do Pe                    81\n",
              "G56:Mononeuropatias dos Membros Super             81\n",
              "S90:Traum Superf do Tornozelo e do Pe             79\n",
              "S66:Traum de Musculo e Tendao Nivel Punho e M     79\n",
              "S60:Traum Superf do Punho e da Mao                79\n",
              "S20:Traum Superf do Torax                         78\n",
              "S51:Ferim do Antebraco                            78\n",
              "S80:Traum Superf da Perna                         78\n",
              "S32:Frat da Coluna Lombar e da Pelve              78\n",
              "S01:Ferim da Cabeca                               77\n",
              "S05:Traum do Olho e da Orbita Ocular              76\n",
              "                                                ... \n",
              "O73:Retencao Placenta e Membranas s/Hemorragi      1\n",
              "E58:Defic de Calcio da Dieta                       1\n",
              "P70:Trans Transit Metab Carboid Esp Fet Rec-N      1\n",
              "O67:Trab Parto Parto Compl Hemorr Intrapart N      1\n",
              "E79:Disturbios Metabolismo Purina e Pirimidin      1\n",
              "P81:Outr Disturbios Regulacao Termica Rec-Nas      1\n",
              "R18:Ascite                                         1\n",
              "F94:Transt Func Soc c/Inicio Infancia Adolesc      1\n",
              "O25:Desnutric na Gravidez                          1\n",
              "B73:Oncocercose                                    1\n",
              "Q97:Outr Anom Cromoss Sexuais Fenotipo Fem Nc      1\n",
              "R80:Proteinuria Isolada                            1\n",
              "P22:Desconforto Respirat do Recem-Nascido          1\n",
              "C58:Neopl Malig da Placenta                        1\n",
              "L67:Anormalidades Cor e Pediculo Cabelos Pelo      1\n",
              "O98:Doen Inf Paras Mat Cop Compl Grav Part Pu      1\n",
              "D12:Neopl Benig do Colon Reto Canal Anal e An      1\n",
              "Y97:Circunst Relat Condicoes Poluicao Ambient      1\n",
              "A65:Sifilis Nao-Venerea                            1\n",
              "A98:Outr Febres Hemorragicas p/Virus Ncop          1\n",
              "B05:Sarampo                                        1\n",
              "Q80:Ictiose Congen                                 1\n",
              "{ñ class}                                          1\n",
              "Q14:Malformacoes Congen Camara Posterior do O      1\n",
              "P90:Convulsoes do Recem-Nascido                    1\n",
              "Q87:Outr Sindr c/Malform Cong Q Acomet Mult S      1\n",
              "P94:Transt do Tonus Muscular do Recem-Nascido      1\n",
              "P72:Outr Transt Endocrinos Transit Period Neo      1\n",
              "Q03:Hidrocefalia Congen                            1\n",
              "P56:Hidropsia Fetal Dev Doenc Hemolitica           1\n",
              "Name: CID, Length: 1980, dtype: int64"
            ]
          },
          "metadata": {
            "tags": []
          },
          "execution_count": 6
        }
      ]
    },
    {
      "cell_type": "code",
      "metadata": {
        "id": "0oAQkpsanNYD",
        "colab_type": "code",
        "colab": {}
      },
      "source": [
        ""
      ],
      "execution_count": 0,
      "outputs": []
    }
  ]
}